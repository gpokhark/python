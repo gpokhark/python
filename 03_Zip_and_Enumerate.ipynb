{
 "cells": [
  {
   "cell_type": "markdown",
   "metadata": {},
   "source": [
    "# Zip and Enumerate\n",
    "Source - Udacity - [Intro to Python Programming](https://learn.udacity.com/courses/ud1110) - [Control Flow](https://learn.udacity.com/courses/ud1110/lessons/12fb5c43-64f1-485d-b1ea-d50df570b33a/concepts/4929aa4e-4930-4621-ad06-e9615201ec49) - https://youtu.be/bSJPzVArE7M"
   ]
  },
  {
   "cell_type": "markdown",
   "metadata": {},
   "source": [
    "## Zip\n",
    "`zip` returns an iterator that combines multiple iterables into one sequence of tuples. Each tuple contains the elements in that position from all the iterables. "
   ]
  },
  {
   "cell_type": "markdown",
   "metadata": {},
   "source": [
    "### Zip Examples"
   ]
  },
  {
   "cell_type": "code",
   "execution_count": 1,
   "metadata": {},
   "outputs": [],
   "source": [
    "letters = ['a', 'b', 'c']\n",
    "nums = [1, 2, 3]\n",
    "zipped = zip(letters, nums)\n",
    "print(zipped)"
   ]
  },
  {
   "cell_type": "code",
   "execution_count": 2,
   "metadata": {},
   "outputs": [
    {
     "name": "stdout",
     "output_type": "stream",
     "text": [
      "a and 1\n",
      "b and 2\n",
      "c and 3\n"
     ]
    }
   ],
   "source": [
    "for letter, num in zip(letters, nums):\n",
    "    print(\"{} and {}\".format(letter, num))"
   ]
  },
  {
   "cell_type": "markdown",
   "metadata": {},
   "source": [
    "### Unzip Example\n",
    "In addition to zipping two lists together, you can also unzip a list into tuples using an asterisk."
   ]
  },
  {
   "cell_type": "code",
   "execution_count": 3,
   "metadata": {},
   "outputs": [],
   "source": [
    "some_list = [('a', 1), ('b', 2), ('c', 3)]\n",
    "letters_unzip, nums_unzip = zip(*some_list)"
   ]
  },
  {
   "cell_type": "code",
   "execution_count": 4,
   "metadata": {},
   "outputs": [
    {
     "name": "stdout",
     "output_type": "stream",
     "text": [
      "('a', 'b', 'c')\n"
     ]
    },
    {
     "data": {
      "text/plain": [
       "tuple"
      ]
     },
     "execution_count": 4,
     "metadata": {},
     "output_type": "execute_result"
    }
   ],
   "source": [
    "print(letters_unzip)\n",
    "type(letters_unzip)"
   ]
  },
  {
   "cell_type": "code",
   "execution_count": 5,
   "metadata": {},
   "outputs": [
    {
     "name": "stdout",
     "output_type": "stream",
     "text": [
      "(1, 2, 3)\n"
     ]
    },
    {
     "data": {
      "text/plain": [
       "tuple"
      ]
     },
     "execution_count": 5,
     "metadata": {},
     "output_type": "execute_result"
    }
   ],
   "source": [
    "print(nums_unzip)\n",
    "type(nums_unzip)"
   ]
  },
  {
   "cell_type": "markdown",
   "metadata": {},
   "source": [
    "## Enumerate\n",
    "`enumerate` is a built in function that returns an iterator of tuples containing indices and values of a list. You'll often use this when you want the index along with each element of an iterable in a loop."
   ]
  },
  {
   "cell_type": "code",
   "execution_count": 6,
   "metadata": {},
   "outputs": [
    {
     "name": "stdout",
     "output_type": "stream",
     "text": [
      "0 a\n",
      "1 b\n",
      "2 c\n",
      "3 d\n",
      "4 e\n"
     ]
    }
   ],
   "source": [
    "letters = ['a', 'b', 'c', 'd', 'e']\n",
    "for i, letter in enumerate(letters):\n",
    "    print(i, letter)"
   ]
  },
  {
   "cell_type": "markdown",
   "metadata": {},
   "source": [
    "## Examples"
   ]
  },
  {
   "cell_type": "code",
   "execution_count": 7,
   "metadata": {},
   "outputs": [
    {
     "name": "stdout",
     "output_type": "stream",
     "text": [
      "F: 23, 677, 4\n",
      "J: 53, 233, 16\n",
      "A: 2, 405, -6\n",
      "Q: -12, 433, -42\n",
      "Y: 95, 905, 3\n",
      "B: 103, 376, -6\n",
      "W: 14, 432, 23\n",
      "X: -5, 445, -1\n"
     ]
    }
   ],
   "source": [
    "# Zip Coordinates\n",
    "x_coord = [23, 53, 2, -12, 95, 103, 14, -5]\n",
    "y_coord = [677, 233, 405, 433, 905, 376, 432, 445]\n",
    "z_coord = [4, 16, -6, -42, 3, -6, 23, -1]\n",
    "labels = [\"F\", \"J\", \"A\", \"Q\", \"Y\", \"B\", \"W\", \"X\"]\n",
    "\n",
    "points = []\n",
    "\n",
    "for point in zip(labels, x_coord, y_coord, z_coord):\n",
    "    points.append(\"{}: {}, {}, {}\".format(*point)) # * Astrick is for unzipping\n",
    "\n",
    "for point in points:\n",
    "    print(point)"
   ]
  },
  {
   "cell_type": "code",
   "execution_count": 8,
   "metadata": {},
   "outputs": [
    {
     "name": "stdout",
     "output_type": "stream",
     "text": [
      "cast = {'Barney': 72, 'Robin': 68, 'Ted': 72, 'Lily': 66, 'Marshall': 76}\n"
     ]
    }
   ],
   "source": [
    "# Zip Lists to a Dictionary\n",
    "cast_names = [\"Barney\", \"Robin\", \"Ted\", \"Lily\", \"Marshall\"]\n",
    "cast_heights = [72, 68, 72, 66, 76]\n",
    "\n",
    "cast = dict(zip(cast_names, cast_heights))\n",
    "print('cast = {}'.format(cast))"
   ]
  },
  {
   "cell_type": "code",
   "execution_count": 9,
   "metadata": {},
   "outputs": [
    {
     "name": "stdout",
     "output_type": "stream",
     "text": [
      "names = ('Barney', 'Robin', 'Ted', 'Lily', 'Marshall')\n",
      "heights = (72, 68, 72, 66, 76)\n"
     ]
    }
   ],
   "source": [
    "# Unzip Tuples\n",
    "cast = ((\"Barney\", 72), (\"Robin\", 68), (\"Ted\", 72), (\"Lily\", 66), (\"Marshall\", 76))\n",
    "\n",
    "# define names and heights here\n",
    "names, heights = zip(*cast)\n",
    "print('names = {}'.format(names))\n",
    "print('heights = {}'.format(heights))"
   ]
  },
  {
   "cell_type": "markdown",
   "metadata": {},
   "source": [
    "#### **Transpose with Zip**"
   ]
  },
  {
   "cell_type": "code",
   "execution_count": 10,
   "metadata": {},
   "outputs": [
    {
     "name": "stdout",
     "output_type": "stream",
     "text": [
      "a = (0, 3, 6, 9)\n",
      "b = (1, 4, 7, 10)\n",
      "c = (2, 5, 8, 11)\n",
      "data = ((0, 1, 2), (3, 4, 5), (6, 7, 8), (9, 10, 11))\n",
      "data_transpose = ((0, 3, 6, 9), (1, 4, 7, 10), (2, 5, 8, 11))\n"
     ]
    }
   ],
   "source": [
    "# Transpose with zip\n",
    "data = ((0, 1, 2), (3, 4, 5), (6, 7, 8), (9, 10, 11))\n",
    "\n",
    "a,b,c = zip(*data)\n",
    "print('a = {}'.format(a))\n",
    "print('b = {}'.format(b))\n",
    "print('c = {}'.format(c))\n",
    "data_transpose = tuple(zip(*data))\n",
    "print('data = {}'.format(data))\n",
    "print('data_transpose = {}'.format(data_transpose))"
   ]
  },
  {
   "cell_type": "code",
   "execution_count": 11,
   "metadata": {},
   "outputs": [
    {
     "name": "stdout",
     "output_type": "stream",
     "text": [
      "cast = ['Barney Stinson 72', 'Robin Scherbatsky 68', 'Ted Mosby 72', 'Lily Aldrin 66', 'Marshall Eriksen 76']\n"
     ]
    }
   ],
   "source": [
    "# Enumerate\n",
    "cast = [\"Barney Stinson\", \"Robin Scherbatsky\", \"Ted Mosby\", \"Lily Aldrin\", \"Marshall Eriksen\"]\n",
    "heights = [72, 68, 72, 66, 76]\n",
    "\n",
    "for i, character in enumerate(cast):\n",
    "    cast[i] = character + \" \" + str(heights[i])\n",
    "\n",
    "print('cast = {}'.format(cast))"
   ]
  },
  {
   "cell_type": "code",
   "execution_count": 12,
   "metadata": {},
   "outputs": [
    {
     "name": "stdout",
     "output_type": "stream",
     "text": [
      "Alice (25) from USA\n",
      "Bob (30) from Canada\n",
      "Charlie (35) from Mexico\n"
     ]
    }
   ],
   "source": [
    "# `zip` is a built-in function that takes two or more iterables as arguments and returns an \n",
    "# iterator that aggregates elements from each iterable.\n",
    "# Example of using zip function\n",
    "names = [\"Alice\", \"Bob\", \"Charlie\"]\n",
    "ages = [25, 30, 35]\n",
    "countries = [\"USA\", \"Canada\", \"Mexico\"]\n",
    "zipped = zip(names, ages, countries)\n",
    "for name, age, country in zipped:\n",
    "    print(f\"{name} ({age}) from {country}\")\n",
    "# Output:\n",
    "# Alice (25) from USA\n",
    "# Bob (30) from Canada\n",
    "# Charlie (35) from Mexico"
   ]
  },
  {
   "cell_type": "code",
   "execution_count": 13,
   "metadata": {},
   "outputs": [
    {
     "name": "stdout",
     "output_type": "stream",
     "text": [
      "{'a': 1, 'b': 2, 'c': 3}\n"
     ]
    }
   ],
   "source": [
    "# You can also use zip to combine two lists into a dictionary:\n",
    "# Example of using zip to create a dictionary\n",
    "keys = [\"a\", \"b\", \"c\"]\n",
    "values = [1, 2, 3]\n",
    "dictionary = dict(zip(keys, values))\n",
    "print(dictionary)  # Output: {'a': 1, 'b': 2, 'c': 3}"
   ]
  },
  {
   "cell_type": "code",
   "execution_count": 14,
   "metadata": {},
   "outputs": [
    {
     "name": "stdout",
     "output_type": "stream",
     "text": [
      "('Alice', 'Bob', 'Charlie')\n",
      "(25, 30, 35)\n",
      "('USA', 'Canada', 'Mexico')\n"
     ]
    }
   ],
   "source": [
    "# You can use the * operator to unzip a zipped iterable:\n",
    "# Example of using the * operator to unzip a zipped iterable\n",
    "names = [\"Alice\", \"Bob\", \"Charlie\"]\n",
    "ages = [25, 30, 35]\n",
    "countries = [\"USA\", \"Canada\", \"Mexico\"]\n",
    "zipped = zip(names, ages, countries)\n",
    "unzipped_names, unzipped_ages, unzipped_countries = zip(*zipped)\n",
    "print(unzipped_names)  # Output: ('Alice', 'Bob', 'Charlie')\n",
    "print(unzipped_ages)  # Output: (25, 30, 35)\n",
    "print(unzipped_countries)  # Output: ('USA', 'Canada', 'Mexico')"
   ]
  },
  {
   "cell_type": "code",
   "execution_count": 15,
   "metadata": {},
   "outputs": [
    {
     "name": "stdout",
     "output_type": "stream",
     "text": [
      "Alice (25) from USA\n",
      "Bob (30) from Canada\n"
     ]
    }
   ],
   "source": [
    "# If the zipped iterable is not of equal length, the zip function will stop \n",
    "# as soon as the shortest iterable is exhausted:\n",
    "# Example of using zip with unequal-length iterables\n",
    "names = [\"Alice\", \"Bob\", \"Charlie\"]\n",
    "ages = [25, 30]\n",
    "countries = [\"USA\", \"Canada\", \"Mexico\"]\n",
    "zipped = zip(names, ages, countries)\n",
    "for name, age, country in zipped:\n",
    "    print(f\"{name} ({age}) from {country}\")\n",
    "# Output:\n",
    "# Alice (25) from USA\n",
    "# Bob (30) from Canada"
   ]
  },
  {
   "cell_type": "code",
   "execution_count": 16,
   "metadata": {},
   "outputs": [
    {
     "name": "stdout",
     "output_type": "stream",
     "text": [
      "0: Alice\n",
      "1: Bob\n",
      "2: Charlie\n"
     ]
    }
   ],
   "source": [
    "# `enumerate` is a built-in function that adds an index to each element of an \n",
    "# iterable and returns an iterator.\n",
    "# Example of using enumerate function\n",
    "names = [\"Alice\", \"Bob\", \"Charlie\"]\n",
    "for i, name in enumerate(names):\n",
    "    print(f\"{i}: {name}\")\n",
    "# Output:\n",
    "# 0: Alice\n",
    "# 1: Bob\n",
    "# 2: Charlie"
   ]
  },
  {
   "cell_type": "code",
   "execution_count": 17,
   "metadata": {},
   "outputs": [
    {
     "name": "stdout",
     "output_type": "stream",
     "text": [
      "1: Alice\n",
      "2: Bob\n",
      "3: Charlie\n"
     ]
    }
   ],
   "source": [
    "# You can specify the starting index of the enumeration by passing a second argument to enumerate:\n",
    "# Example of using enumerate with a starting index\n",
    "names = [\"Alice\", \"Bob\", \"Charlie\"]\n",
    "for i, name in enumerate(names, start=1):\n",
    "    print(f\"{i}: {name}\")\n",
    "# Output:\n",
    "# 1: Alice\n",
    "# 2: Bob\n",
    "# 3: Charlie"
   ]
  },
  {
   "cell_type": "code",
   "execution_count": 18,
   "metadata": {},
   "outputs": [
    {
     "name": "stdout",
     "output_type": "stream",
     "text": [
      "{0: 'Alice', 1: 'Bob', 2: 'Charlie'}\n"
     ]
    }
   ],
   "source": [
    "# You can also use enumerate to create a dictionary where the keys are the \n",
    "# indices and the values are the elements of the iterable:\n",
    "# Example of using enumerate to create a dictionary\n",
    "names = [\"Alice\", \"Bob\", \"Charlie\"]\n",
    "dictionary = {i: name for i, name in enumerate(names)}\n",
    "print(dictionary)  # Output: {0: 'Alice', 1: 'Bob', 2: 'Charlie'}"
   ]
  },
  {
   "cell_type": "code",
   "execution_count": 19,
   "metadata": {},
   "outputs": [
    {
     "name": "stdout",
     "output_type": "stream",
     "text": [
      "{2: 'Alice', 3: 'Bob', 4: 'Charlie'}\n"
     ]
    }
   ],
   "source": [
    "# You can use enumerate to iterate over a list and display start numbers using keyword start:\n",
    "# Example of using enumerate to display line numbers in a file\n",
    "names = [\"Alice\", \"Bob\", \"Charlie\"]\n",
    "dictionary = {i: name for i, name in enumerate(names, start=2)}\n",
    "print(dictionary)  # Output: {2: 'Alice', 3: 'Bob', 4: 'Charlie'}"
   ]
  }
 ],
 "metadata": {
  "kernelspec": {
   "display_name": "Python 3",
   "language": "python",
   "name": "python3"
  },
  "language_info": {
   "codemirror_mode": {
    "name": "ipython",
    "version": 3
   },
   "file_extension": ".py",
   "mimetype": "text/x-python",
   "name": "python",
   "nbconvert_exporter": "python",
   "pygments_lexer": "ipython3",
   "version": "3.8.5"
  }
 },
 "nbformat": 4,
 "nbformat_minor": 4
}
