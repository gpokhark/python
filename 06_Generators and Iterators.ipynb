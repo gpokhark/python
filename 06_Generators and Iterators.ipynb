{
 "cells": [
  {
   "cell_type": "markdown",
   "metadata": {},
   "source": [
    "# Generators and Iterators"
   ]
  },
  {
   "cell_type": "markdown",
   "metadata": {},
   "source": [
    "An iterator is an object that can be iterated (looped) upon. To create an iterator in Python, you can define a class with a __iter__() method and a __next__() method:"
   ]
  },
  {
   "cell_type": "code",
   "execution_count": 1,
   "metadata": {},
   "outputs": [
    {
     "name": "stdout",
     "output_type": "stream",
     "text": [
      "1\n",
      "2\n",
      "3\n",
      "4\n",
      "5\n"
     ]
    }
   ],
   "source": [
    "# Example of creating an iterator\n",
    "class MyIterator:\n",
    "    def __init__(self):\n",
    "        self.num = 0\n",
    "\n",
    "    def __iter__(self):\n",
    "        return self\n",
    "\n",
    "    def __next__(self):\n",
    "        if self.num < 5:\n",
    "            self.num += 1\n",
    "            return self.num\n",
    "        else:\n",
    "            raise StopIteration\n",
    "\n",
    "# Example of using the iterator\n",
    "it = MyIterator()\n",
    "for i in it:\n",
    "    print(i)\n",
    "# Output: 1 2 3 4 5\n"
   ]
  },
  {
   "cell_type": "markdown",
   "metadata": {},
   "source": [
    "A generator is a special type of iterator that can be created with a yield statement. When you call a generator function, it returns a generator object, which can be iterated upon:"
   ]
  },
  {
   "cell_type": "code",
   "execution_count": 2,
   "metadata": {},
   "outputs": [
    {
     "name": "stdout",
     "output_type": "stream",
     "text": [
      "0\n",
      "1\n",
      "2\n",
      "3\n",
      "4\n"
     ]
    }
   ],
   "source": [
    "# Example of creating a generator\n",
    "def my_generator():\n",
    "    num = 0\n",
    "    while num < 5:\n",
    "        yield num\n",
    "        num += 1\n",
    "\n",
    "# Example of using the generator\n",
    "gen = my_generator()\n",
    "for i in gen:\n",
    "    print(i)\n",
    "# Output: 0 1 2 3 4"
   ]
  },
  {
   "cell_type": "code",
   "execution_count": 3,
   "metadata": {},
   "outputs": [
    {
     "name": "stdout",
     "output_type": "stream",
     "text": [
      "0\n",
      "1\n",
      "2\n",
      "3\n",
      "4\n"
     ]
    }
   ],
   "source": [
    "# You can also use generator expressions to create a generator object:\n",
    "# Example of using a generator expression\n",
    "gen = (x for x in range(5))\n",
    "for i in gen:\n",
    "    print(i)\n",
    "# Output: 0 1 2 3 4"
   ]
  },
  {
   "cell_type": "code",
   "execution_count": 4,
   "metadata": {},
   "outputs": [
    {
     "name": "stdout",
     "output_type": "stream",
     "text": [
      "10\n"
     ]
    }
   ],
   "source": [
    "# Generators can also be used with built-in functions like sum, max, and min:\n",
    "# Example of using a generator with the built-in sum function\n",
    "gen = (x for x in range(5))\n",
    "total = sum(gen)\n",
    "print(total)  # Output: 10\n"
   ]
  },
  {
   "cell_type": "code",
   "execution_count": 5,
   "metadata": {},
   "outputs": [
    {
     "name": "stdout",
     "output_type": "stream",
     "text": [
      "[0, 1, 2, 3, 4]\n",
      "[0, 1, 2, 3, 4]\n"
     ]
    }
   ],
   "source": [
    "# List comprehensions are used to create lists, while generator expressions are used to create generators.\n",
    "\n",
    "# Example of using a list comprehension to create a list\n",
    "my_list = [x for x in range(5)]\n",
    "print(my_list)  # Output: [0, 1, 2, 3, 4]\n",
    "\n",
    "# Example of using a generator expression to create a generator\n",
    "my_generator = (x for x in range(5))\n",
    "print(list(my_generator))  # Output: [0, 1, 2, 3, 4]"
   ]
  },
  {
   "cell_type": "code",
   "execution_count": 6,
   "metadata": {},
   "outputs": [
    {
     "name": "stdout",
     "output_type": "stream",
     "text": [
      "[0, 1, 2, 3, 4]\n",
      "[0, 1, 2, 3, 4]\n"
     ]
    }
   ],
   "source": [
    "# List comprehensions use square brackets, while generator expressions use parentheses.\n",
    "\n",
    "# Example of using a list comprehension\n",
    "my_list = [x for x in range(5)]\n",
    "print(my_list)  # Output: [0, 1, 2, 3, 4]\n",
    "\n",
    "# Example of using a generator expression\n",
    "my_generator = (x for x in range(5))\n",
    "print(list(my_generator))  # Output: [0, 1, 2, 3, 4]"
   ]
  },
  {
   "cell_type": "markdown",
   "metadata": {},
   "source": [
    "### Important difference between list comprehension and generator expression\n",
    "List comprehensions create the entire list in memory at once, while generator expressions create values on-the-fly and yield one at a time."
   ]
  },
  {
   "cell_type": "code",
   "execution_count": 7,
   "metadata": {},
   "outputs": [
    {
     "name": "stdout",
     "output_type": "stream",
     "text": [
      "[0, 1, 4, 9, 16, 25, 36, 49, 64, 81]\n",
      "0\n",
      "1\n",
      "4\n"
     ]
    }
   ],
   "source": [
    "# Example of using a list comprehension to create a list\n",
    "my_list = [x**2 for x in range(10)]\n",
    "print(my_list)  # Output: [0, 1, 4, 9, 16, 25, 36, 49, 64, 81]\n",
    "\n",
    "# Example of using a generator expression to create a generator\n",
    "my_generator = (x**2 for x in range(10))\n",
    "print(next(my_generator))  # Output: 0\n",
    "print(next(my_generator))  # Output: 1\n",
    "print(next(my_generator))  # Output: 4"
   ]
  },
  {
   "cell_type": "code",
   "execution_count": 8,
   "metadata": {},
   "outputs": [
    {
     "name": "stdout",
     "output_type": "stream",
     "text": [
      "1000000\n",
      "1000000\n"
     ]
    }
   ],
   "source": [
    "# Generator expressions are more memory-efficient than list comprehensions, especially for large data sets.\n",
    "\n",
    "# Example of using a list comprehension to create a list\n",
    "my_list = [x for x in range(1000000)]\n",
    "print(len(my_list))  # Output: 1000000\n",
    "\n",
    "# Example of using a generator expression to create a generator\n",
    "my_generator = (x for x in range(1000000))\n",
    "print(len(list(my_generator)))  # Output: 1000000"
   ]
  }
 ],
 "metadata": {
  "kernelspec": {
   "display_name": "Python 3",
   "language": "python",
   "name": "python3"
  },
  "language_info": {
   "codemirror_mode": {
    "name": "ipython",
    "version": 3
   },
   "file_extension": ".py",
   "mimetype": "text/x-python",
   "name": "python",
   "nbconvert_exporter": "python",
   "pygments_lexer": "ipython3",
   "version": "3.8.5"
  }
 },
 "nbformat": 4,
 "nbformat_minor": 4
}
